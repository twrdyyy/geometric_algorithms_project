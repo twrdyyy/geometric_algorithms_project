{
 "cells": [
  {
   "cell_type": "markdown",
   "metadata": {},
   "source": [
    "## First attempt"
   ]
  },
  {
   "cell_type": "markdown",
   "metadata": {},
   "source": [
    "> In the book Doubly Linked List\n",
    ">  \n",
    "> Here seperate lists of vertexes, faces, half-edges\n",
    ">  \n",
    "> \"Pointers\" simply indexes in appropriate list //best of my ideas yet\n"
   ]
  },
  {
   "cell_type": "markdown",
   "metadata": {},
   "source": [
    "### Classes for vertexes, faces, half-edges"
   ]
  },
  {
   "cell_type": "code",
   "execution_count": 1,
   "metadata": {},
   "outputs": [],
   "source": [
    "class vertex:\n",
    "    def __init__(self, coord, incident_edge):\n",
    "        # tuple with coordinates\n",
    "        self.coord = coord \n",
    "        \n",
    "        # half-edge with this vertex as origin  -- not exactly sure how this should work\n",
    "        self.incident_edge = incident_edge\n",
    "\n",
    "        \n",
    "        \n",
    "class face:\n",
    "    def __init__(self, outer_component):\n",
    "        # index of and half-edge on outer boundary\n",
    "        self.outer = outer_component\n",
    "        \n",
    "        # list of indexes of one (outer) half-edge in every hole inside this face\n",
    "        self.inner = []\n",
    "        \n",
    "    # adding hole (one of outer half_edges from hole inside this face)\n",
    "    def add_hole(self, inner_component_half_edge):\n",
    "        self.inner.append(inner_component_half_edge)\n",
    "        \n",
    "    #for the unbounded face, self.outer = None    -- should be default??\n",
    "        \n",
    "        \n",
    "        \n",
    "class half_edge:\n",
    "    def __init__(self, origin, twin, incident_face, nxt, prv):\n",
    "        # vertex this half_edge starts from\n",
    "        self.origin = origin\n",
    "        \n",
    "        # opposite half_edge (from destination(this) to origin(this))\n",
    "        self.twin = twin\n",
    "        \n",
    "        # face laying to the left of half_edge\n",
    "        self.incident_face = incident_face\n",
    "        \n",
    "        #next half_edge that is also a boundary to self.incident_face\n",
    "        self.next = nxt\n",
    "        \n",
    "        #previous half_edge that is also a boundary to self.incident_face\n",
    "        self.prev = prv\n",
    "        \n",
    "    # self.destination = self.twin.origin hence needs not to be used\n",
    "        "
   ]
  },
  {
   "cell_type": "markdown",
   "metadata": {},
   "source": [
    "### Subdivision"
   ]
  },
  {
   "cell_type": "code",
   "execution_count": null,
   "metadata": {},
   "outputs": [],
   "source": [
    "# \"Doubly Linked\" Edge List\n",
    "edge_list = (v_list, f_list, he_list)\n",
    "\n",
    "# vertex list\n",
    "v_list = []\n",
    "\n",
    "# face list\n",
    "f_list = []\n",
    "\n",
    "# half_edge list\n",
    "he_list = []"
   ]
  }
 ],
 "metadata": {
  "kernelspec": {
   "display_name": "Python 3",
   "language": "python",
   "name": "python3"
  },
  "language_info": {
   "codemirror_mode": {
    "name": "ipython",
    "version": 3
   },
   "file_extension": ".py",
   "mimetype": "text/x-python",
   "name": "python",
   "nbconvert_exporter": "python",
   "pygments_lexer": "ipython3",
   "version": "3.7.4"
  }
 },
 "nbformat": 4,
 "nbformat_minor": 2
}
