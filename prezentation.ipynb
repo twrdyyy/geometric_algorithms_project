{
 "cells": [
  {
   "cell_type": "markdown",
   "metadata": {},
   "source": [
    "# Algorytm znajdowania przecięcia dwóch zbiorów"
   ]
  },
  {
   "cell_type": "markdown",
   "metadata": {},
   "source": [
    "# Problem:\n",
    "\n",
    "### Znalezienie przecięcia i części wspólnej reprezentacji planarnej dwóch zbiorów"
   ]
  },
  {
   "cell_type": "markdown",
   "metadata": {},
   "source": [
    "### Zbiory reprezentowane są w postaci doubly linked edge list (DCEL)"
   ]
  },
  {
   "cell_type": "markdown",
   "metadata": {},
   "source": [
    "# DCEL\n",
    "\n",
    "### Lista dwukierunkowa zawierająca\n",
    "###  - zbiór wierzchołków\n",
    "###  - zbiór krawędzi \n",
    "###  - zbiór ścian\n",
    " \n"
   ]
  },
  {
   "cell_type": "markdown",
   "metadata": {},
   "source": [
    "### Wierzchołek zawiera\n",
    "### - współrzędne\n",
    "### - liste krawędzi z niego wychodzących\n",
    "\n",
    "<img src=\"\">"
   ]
  },
  {
   "cell_type": "markdown",
   "metadata": {},
   "source": [
    "### Krawędź, a tak na prawdę półkrawędź zawiera:\n",
    "###  - wierzchołek startowy\n",
    "###  - krawędź bliźniaczą\n",
    "###  - ścianę, którą okala dana krawędź\n",
    "###  - następną i poprzednią krawędź w kierunku przeciwnie do wskazówek zegara\n",
    "\n",
    "<img src=\"\">"
   ]
  },
  {
   "cell_type": "markdown",
   "metadata": {},
   "source": [
    "### Ściana zawiera:\n",
    "###  - reprezentatywną krawędź\n",
    "\n",
    "<img src=\"\">"
   ]
  },
  {
   "cell_type": "markdown",
   "metadata": {},
   "source": [
    "# Algorytm"
   ]
  },
  {
   "cell_type": "markdown",
   "metadata": {},
   "source": [
    "### Ogólną ideą algorytmu jest przetrzymywanie pierwszego oraz drugiego zbioru punktów w struturach DCEL oraz wykorzystanie algorytmu zamiatania"
   ]
  },
  {
   "cell_type": "markdown",
   "metadata": {},
   "source": [
    "# Pseudokod"
   ]
  },
  {
   "cell_type": "markdown",
   "metadata": {},
   "source": [
    "# 1. Wczytaj zbiory w postaci struktury DCEL"
   ]
  },
  {
   "cell_type": "markdown",
   "metadata": {},
   "source": [
    "# 2. Połącz zbiory w wynikową strukture DCEL"
   ]
  },
  {
   "cell_type": "markdown",
   "metadata": {},
   "source": [
    "# 3. Wykryj punkty przecięcia algorytmem zamiatania"
   ]
  },
  {
   "cell_type": "markdown",
   "metadata": {},
   "source": [
    "# 4. Zaktualizuj wierzchołki, krawędzie oraz ściany nowopowstałej struktury"
   ]
  },
  {
   "cell_type": "markdown",
   "metadata": {},
   "source": [
    "# Aglorytm zamiatania musi ulec modyfikacji aby wykrywał dodatkowe zdarzenia:\n",
    "# - Nakładanie się punktów\n",
    "# - Nakładanie się krawędzi oraz punktu\n",
    "# - Z jednego punktu może wychodzić więcej niż jeden punkt"
   ]
  },
  {
   "cell_type": "markdown",
   "metadata": {},
   "source": [
    "# Zdarzenia algorytmu zamiatania"
   ]
  },
  {
   "cell_type": "markdown",
   "metadata": {},
   "source": [
    "# Przecięcie krawędzi\n",
    "\n",
    "### Zamień dwie krawędzie na nowe cztery w wynikowej strukturze DCEL"
   ]
  },
  {
   "cell_type": "markdown",
   "metadata": {},
   "source": [
    "# Przecięcie krawędzi i punktu\n",
    "\n",
    "### Zamień krawędź na nowe dwie w wynikowej strukturze DCEL"
   ]
  },
  {
   "cell_type": "markdown",
   "metadata": {},
   "source": [
    "# Przecięcie wierzchołków\n",
    "\n",
    "### Scal dwa wierzchołki w strukturze DCEL"
   ]
  },
  {
   "cell_type": "markdown",
   "metadata": {},
   "source": [
    "# Problemy"
   ]
  },
  {
   "cell_type": "markdown",
   "metadata": {},
   "source": [
    "# Budowanie struktury DCEL"
   ]
  },
  {
   "cell_type": "markdown",
   "metadata": {},
   "source": [
    "# Wstaw wszystkie wierzchołki zbioru\n"
   ]
  },
  {
   "cell_type": "markdown",
   "metadata": {},
   "source": [
    "# Wstaw wszytskie krawędzie zbioru\n"
   ]
  },
  {
   "cell_type": "markdown",
   "metadata": {},
   "source": [
    "# Problemy"
   ]
  },
  {
   "cell_type": "markdown",
   "metadata": {},
   "source": [
    "# Zainicjalizuj, krawędź bliźniaczą, następnika i poprzednika dla każdej krawędzi\n"
   ]
  },
  {
   "cell_type": "markdown",
   "metadata": {},
   "source": [
    "# Dla każdej krawędzi jeżeli nie posiada to stwórz i dodaj ścianę\n",
    "# Po stworzeniu ściany dodaj ścianę dla każdej krawędzi otaczającej ścianę"
   ]
  },
  {
   "cell_type": "markdown",
   "metadata": {},
   "source": [
    "# Złożoność obliczeniowa\n",
    "\n",
    "# \n"
   ]
  },
  {
   "cell_type": "code",
   "execution_count": null,
   "metadata": {},
   "outputs": [],
   "source": []
  },
  {
   "cell_type": "code",
   "execution_count": null,
   "metadata": {},
   "outputs": [],
   "source": []
  }
 ],
 "metadata": {
  "kernelspec": {
   "display_name": "Python 3",
   "language": "python",
   "name": "python3"
  },
  "language_info": {
   "codemirror_mode": {
    "name": "ipython",
    "version": 3
   },
   "file_extension": ".py",
   "mimetype": "text/x-python",
   "name": "python",
   "nbconvert_exporter": "python",
   "pygments_lexer": "ipython3",
   "version": "3.7.5"
  }
 },
 "nbformat": 4,
 "nbformat_minor": 2
}
