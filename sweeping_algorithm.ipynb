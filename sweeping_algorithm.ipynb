{
 "cells": [
  {
   "cell_type": "markdown",
   "metadata": {},
   "source": [
    "# Sweeping algorithm"
   ]
  },
  {
   "cell_type": "markdown",
   "metadata": {},
   "source": [
    "#### Install module used in algorithm"
   ]
  },
  {
   "cell_type": "code",
   "execution_count": 24,
   "metadata": {},
   "outputs": [
    {
     "name": "stdout",
     "output_type": "stream",
     "text": [
      "Requirement already satisfied: sortedcontainers in /home/twrdy/.local/lib/python3.7/site-packages (2.1.0)\r\n"
     ]
    }
   ],
   "source": [
    "!pip3 install sortedcontainers"
   ]
  },
  {
   "cell_type": "markdown",
   "metadata": {},
   "source": [
    "#### Setup"
   ]
  },
  {
   "cell_type": "code",
   "execution_count": 26,
   "metadata": {},
   "outputs": [],
   "source": [
    "#data structures used in algorithm\n",
    "from blist import sortedset, sortedlist\n",
    "\n",
    "#for code decoration\n",
    "from typing import *"
   ]
  },
  {
   "cell_type": "markdown",
   "metadata": {},
   "source": [
    "Type declaration"
   ]
  },
  {
   "cell_type": "code",
   "execution_count": 20,
   "metadata": {},
   "outputs": [],
   "source": [
    "line = List[List[float]]\n",
    "point = List[float]\n",
    "determinant = Callable"
   ]
  },
  {
   "cell_type": "markdown",
   "metadata": {},
   "source": [
    "#### Lines tersection"
   ]
  },
  {
   "cell_type": "code",
   "execution_count": 15,
   "metadata": {},
   "outputs": [],
   "source": [
    "'determinant function' \n",
    "def det(a: point, b: point, c: point) -> int:\n",
    "    return a[0]*b[1] + a[1]*c[0] + b[0]*c[1] - b[1]*c[0] - a[1]*b[0] - a[0]*c[1]\n",
    "\n",
    "'a bit tricky intersection checker'\n",
    "def intersect(a: line, b: line) -> bool:\n",
    "    #start end points\n",
    "    a_start, b_start, a_end, b_end = a[0], b[0], a[1], b[1]\n",
    "    \n",
    "    return (det(a_start, a_end, b_start) * det(a_start, a_end, b_end) < 0 and \n",
    "            det(b_start, b_end, a_start) * det(b_start, b_end, a_end) < 0)"
   ]
  },
  {
   "cell_type": "markdown",
   "metadata": {},
   "source": [
    "### Data structures"
   ]
  },
  {
   "cell_type": "code",
   "execution_count": 16,
   "metadata": {},
   "outputs": [],
   "source": [
    "'sturucture that handles events in sweeping algorith'\n",
    "class Event:\n",
    "    def __init__(self, position: point, event_type: str, line: line):\n",
    "        self.position = position\n",
    "        self.event_type = event_type\n",
    "        self.line = line\n",
    "    \n",
    "    #necessary comparator, the order in T structure\n",
    "    def __gt__(self, other) -> bool:\n",
    "        if self.position[0] == other.position[0]:\n",
    "            if self.event_type == other.event_type:\n",
    "                return self.position[1] < other.position[1]\n",
    "            return self.event_type == 'start'\n",
    "        return self.position[0] < other.position[0]\n",
    "\n",
    "'structure that handles Line in sweeping algorithm'\n",
    "class Line:\n",
    "    def set_class(det: determinant, e: float =1e-8):\n",
    "        Line.det = det\n",
    "        Line.e = e\n",
    "        \n",
    "    def __init__(self, line: line):\n",
    "        #standard math line parameters\n",
    "        self.start = line[0]\n",
    "        self.end = line[1]\n",
    "        self.m = (self.start[1]-self.end[1])/(self.start[0]-self.end[0])\n",
    "        self.b = (self.start[1]-self.m*self.start[0])\n",
    "    \n",
    "    'x axis comperator point'\n",
    "    def set_ordering(x: float):\n",
    "        Line.ordering_x = x\n",
    "    \n",
    "    def get_line(self) -> line:\n",
    "        return [self.start, self.end]\n",
    "    \n",
    "    'necessary comparator, the order in Q structure'\n",
    "    def __eq__(self, other) -> bool:\n",
    "        return self.start == other.start and self.end == other.end\n",
    "    \n",
    "    def __gt__(self, other) -> bool:\n",
    "        x = Line.ordering_x\n",
    "        return self.m*x+self.b > other.m*x+other.b"
   ]
  },
  {
   "cell_type": "markdown",
   "metadata": {},
   "source": [
    "## Sweeping algorithm implementation"
   ]
  },
  {
   "cell_type": "code",
   "execution_count": 22,
   "metadata": {},
   "outputs": [],
   "source": [
    "'create event from intersection of two lines'\n",
    "def get_Event_from_intersection(first: Line, second: Line) -> Event:\n",
    "    #compute intersection point\n",
    "    x = (second.b - first.b)/(first.m - second.m)\n",
    "    intersection_point = (x,first.m*x+first.b)\n",
    "    #create event\n",
    "    return Event(intersection_point, 'cross', [first,second])\n",
    "\n",
    "'check if two lines intersect'\n",
    "def check_intersection(first: Line, second: Line, T: sortedlist, Q: sortedset) -> None:\n",
    "    if intersect(first, second):\n",
    "        #add intersection event to T structure\n",
    "        T.add(get_Event_from_intersection(first, second))\n",
    "\n",
    "        \n",
    "'sweeping algorithm to detect intersection points'\n",
    "def get_intersections(lines: List[line], e: float =1e-14, det: determinant =det) -> List[point]:\n",
    "    \n",
    "    #set line determinant and epsilon for error\n",
    "    Line.set_class(det,e)\n",
    "    \n",
    "    #fill T structure with start and end point events\n",
    "    T = []\n",
    "    for line in lines:\n",
    "        l = Line(line) #convert line to Line structure\n",
    "        T.append(Event(line[0],'start',l))\n",
    "        T.append(Event(line[1],'end',l))\n",
    "    \n",
    "    T = sortedlist(T) #timeline structure declaration\n",
    "    Q = sortedset() #broom structure declaration\n",
    "    \n",
    "    #order of storing Lines in timeline structure\n",
    "    Line.set_ordering(T[-1].pos[0])\n",
    "    \n",
    "    #intersection points set\n",
    "    intersections = set()\n",
    "    \n",
    "    while len(T) > 0:\n",
    "        \n",
    "        event = T.pop() #get most left event from x axis \n",
    "        \n",
    "        #start of the Line case\n",
    "        if event.event_type == 'start':\n",
    "            \n",
    "            Line.set_ordering(event.pos[0])  #set order of storing Lines in timeline structure\n",
    "            Q.add(event.line) #add Line to broom structure\n",
    "            \n",
    "            #check new possible intersections for line below and above newly added line\n",
    "            b = Q.index(event.line) \n",
    "            b -= 1\n",
    "            if b>=0 and b < len(Q):\n",
    "                check_intersection(Q[b], event.line, T, Q)\n",
    "            \n",
    "            b += 2\n",
    "            if b>=0 and b < len(Q):\n",
    "                check_intersection(Q[b], event.line, T, Q)\n",
    "            \n",
    "            \n",
    "        #end of Line case\n",
    "        elif event.event_type == 'end':\n",
    "            \n",
    "            #check new possible intersections for line below and above lately deleted line\n",
    "            k = Q.index(event.line)\n",
    "            a = k+1\n",
    "            b = k-1\n",
    "            if a < len(Q) and b < len(Q) and a>=0 and b>=0:    \n",
    "                check_intersection(Q[a], Q[b], T, Q)\n",
    "                \n",
    "            Q.discard(event.line) #delete line from broom structure            \n",
    "            \n",
    "        #intersection of two Lines case     \n",
    "        else:\n",
    "            #do not handle event that already occured \n",
    "            if event.pos in intersections:\n",
    "                continue\n",
    "            \n",
    "            intersections.add(event.pos) #add point to intersetion set\n",
    "            \n",
    "            #change Line ordering in broom set: s, s' = s', s \n",
    "            Q.discard(event.line[0])\n",
    "            Q.discard(event.line[1])\n",
    "            \n",
    "            Line.set_ordering(event.pos[0])            \n",
    "            Line.ordering_x += 1e-5\n",
    "            Q.add(event.line[0])\n",
    "            Q.add(event.line[1])\n",
    "              \n",
    "            #check new possible intersections\n",
    "            k = Q.index(event.line[0])\n",
    "            m = Q.index(event.line[1])\n",
    "            \n",
    "            if k > m:\n",
    "                k , m = m , k\n",
    "                \n",
    "            if m >= 0 and m+1 < len(Q) and m+1 != k:\n",
    "                check_intersection(Q[m],Q[m+1],T, Q)\n",
    "            if k-1 >= 0 and k < len(Q) and k-1 != m:\n",
    "                check_intersection(Q[k],Q[k-1],T, Q)\n",
    "                \n",
    "    return list(intersections) #convert set() to list()"
   ]
  }
 ],
 "metadata": {
  "kernelspec": {
   "display_name": "Python 3",
   "language": "python",
   "name": "python3"
  },
  "language_info": {
   "codemirror_mode": {
    "name": "ipython",
    "version": 3
   },
   "file_extension": ".py",
   "mimetype": "text/x-python",
   "name": "python",
   "nbconvert_exporter": "python",
   "pygments_lexer": "ipython3",
   "version": "3.7.5"
  }
 },
 "nbformat": 4,
 "nbformat_minor": 2
}
