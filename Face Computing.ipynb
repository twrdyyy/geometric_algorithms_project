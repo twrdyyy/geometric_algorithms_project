{
 "cells": [
  {
   "cell_type": "markdown",
   "metadata": {},
   "source": [
    "#### Importing classes and definitions from Structures\n",
    "> To use any def or class from Structures precede it with 'S.'\n",
    "> \n",
    "> Simply copy code instead is also an option"
   ]
  },
  {
   "cell_type": "code",
   "execution_count": 1,
   "metadata": {},
   "outputs": [
    {
     "name": "stdout",
     "output_type": "stream",
     "text": [
      "Requirement already satisfied: ipynb in /opt/anaconda3/lib/python3.7/site-packages (0.5.1)\n",
      "Note: you may need to restart the kernel to use updated packages.\n"
     ]
    }
   ],
   "source": [
    "pip install ipynb"
   ]
  },
  {
   "cell_type": "code",
   "execution_count": 1,
   "metadata": {},
   "outputs": [],
   "source": [
    "import ipynb.fs.defs.Structures as S"
   ]
  },
  {
   "cell_type": "code",
   "execution_count": null,
   "metadata": {},
   "outputs": [],
   "source": [
    "# after the sweep we got a list containing intersection points\n",
    "# main list - in book called 'D'    - better name needed I guess\n",
    "\n",
    "D = intersections( set_of_subdivisions )\n"
   ]
  },
  {
   "cell_type": "code",
   "execution_count": 3,
   "metadata": {},
   "outputs": [],
   "source": [
    "#test needed\n",
    "# polygon1 = [[(1,1), (1,2)], [(1,2),(2,2)], [(2,2), (2,1)], [(2,1), (1,1)]]\n",
    "# polygon2 = [[(0,0), (0,5)], [(0,5), (5,5)], [(5,5),(0,0)]]\n",
    "polygon3 = [[(-5,-5), (-5,0)], [(-5,0), (0,5)], [(0,5), (1,0)], [(1,0), (0,-5)], [(0,-5), (-5,-5)]]\n",
    "polygon1 = [[(1,1), (1,2)], [(1,2),(2,2)], [(2,2), (1,1)]]\n",
    "polygon2 = [[(0,0), (0,5)], [(0,5), (5,5)], [(5,5),(5,0)],[(5,0),(0,0)]]\n",
    "subdivision = [polygon1, polygon2]\n",
    "# subdivision = [polygon1]\n",
    "# subdivision = [polygon3]\n",
    "\n",
    "\n",
    "D = S.convert(subdivision)"
   ]
  },
  {
   "cell_type": "markdown",
   "metadata": {},
   "source": [
    "> Operating on indexes is tiring but works - better ideas appreciated"
   ]
  },
  {
   "cell_type": "markdown",
   "metadata": {},
   "source": [
    "### Determining boundary cycles\n",
    "\n",
    "> This part finds all boundary cycles in list D and creates a list of them"
   ]
  },
  {
   "cell_type": "markdown",
   "metadata": {},
   "source": [
    "#### Class to keep boundaries"
   ]
  },
  {
   "cell_type": "code",
   "execution_count": 4,
   "metadata": {},
   "outputs": [],
   "source": [
    "class Boundary:\n",
    "    \n",
    "    def __init__(self, first_edge_index, boundary_index):\n",
    "        # (technical) boundary index - perhaps redundant\n",
    "        self.boundary_index = boundary_index\n",
    "        \n",
    "        # list of half_edges indexes in the_list forming the boundary\n",
    "        self.edges = [first_edge_index]\n",
    "        \n",
    "        # boundary can be either outer or inner\n",
    "        self.type = None\n",
    "        \n",
    "        # index of edge containing leftmost vertex as origin - easiest way to decide the type after boundary creation\n",
    "        self.leftmost_edge = first_edge_index\n",
    "        \n",
    "        # leftmost vertex - perhabs redundant\n",
    "        self.leftmost_vertex = None\n",
    "     \n",
    "    # adding new edge to boundary\n",
    "    def add_edge(self, edge_index):\n",
    "        # adding edge to edge list\n",
    "        self.edges.append(edge_index)\n",
    "        \n",
    "        # checking whether added edge should replace leftmost edge (by origins)\n",
    "        if D.v_list[ D.he_list[edge_index].origin ].coord[0] < D.v_list[ D.he_list[self.leftmost_edge].origin ].coord[0]:\n",
    "            self.leftmost_edge = edge_index\n",
    "            \n",
    "        #if tied in x-coordinates, choose one with smaller y-coordinate\n",
    "        elif D.v_list[ D.he_list[edge_index].origin ].coord[0] == D.v_list[ D.he_list[self.leftmost_edge].origin ].coord[0]:\n",
    "            if D.v_list[ D.he_list[edge_index].origin ].coord[1] < D.v_list[ D.he_list[self.leftmost_edge].origin ].coord[1]:\n",
    "                self.leftmost_edge = edge_index\n",
    "    \n",
    "    # deciding if boundary is inner/outer - method called after closing the boundary\n",
    "    def set_type(self):\n",
    "        if det (D.v_list[ D.he_list[ D.he_list[self.leftmost_edge].prev ].origin ].coord, \n",
    "                D.v_list[ D.he_list[ D.he_list[self.leftmost_edge].next ].origin ].coord, \n",
    "                D.v_list[  D.he_list[self.leftmost_edge].origin ].coord) > 0:\n",
    "            self.type = \"Inner\"\n",
    "        else:\n",
    "            self.type = \"Outer\"\n",
    "        \n",
    "        self.leftmost_vertex = D.he_list[self.leftmost_edge].origin"
   ]
  },
  {
   "cell_type": "markdown",
   "metadata": {},
   "source": [
    "#### Algorithm deciding the boundaries"
   ]
  },
  {
   "cell_type": "code",
   "execution_count": 5,
   "metadata": {},
   "outputs": [],
   "source": [
    "import numpy as np\n",
    "# kto by pomyślał że ten skurwiały wyznacznik się znowu przyda :))))\n",
    "# det > 0 <=> c to the left of [a,b]\n",
    "def det(a,b,c):                                            \n",
    "    m = [a[0], a[1], b[0], b[1], c[0], c[1]]\n",
    "    return np.linalg.det(np.concatenate((np.reshape(m, (3, 2)), np.ones((3,1))), axis=1))\n",
    "    \n",
    "        \n",
    "# function returning list of boundaries from D\n",
    "def get_boundaries( D ):\n",
    "    \n",
    "    boundaries_list = []\n",
    "    boundary_index = 0\n",
    "    \n",
    "    #index of next half_edge added to some boundary\n",
    "    processed_he = 0\n",
    "    new_boundary_flag = True\n",
    "    \n",
    "    # this part here shits linear complexity - better solution is a bit complex, to be worried after all\n",
    "    # list and method neccessary to choose next half_edge processed after last edge in boundary\n",
    "    visited_half_edges = [False for i in D.he_list]\n",
    "    def next_after_last():\n",
    "        for he_index in range(len(D.he_list)):\n",
    "            if not visited_half_edges[he_index]:\n",
    "                return he_index\n",
    "    \n",
    "    #again not optimal\n",
    "    while visited_half_edges.count(False) > 0:\n",
    "        \n",
    "        # remember boundary index half_edge belongs to\n",
    "        D.he_list[processed_he].set_boundary(boundary_index)\n",
    "        \n",
    "        # first edge of new boundary\n",
    "        if new_boundary_flag:\n",
    "            \n",
    "            # add boundary and first edge to boundary\n",
    "            boundaries_list.append( Boundary(processed_he, boundary_index) )\n",
    "            \n",
    "            # mark as visited\n",
    "            visited_half_edges[processed_he] = True\n",
    "            \n",
    "            # move to next half_edge\n",
    "            processed_he = D.he_list[processed_he].next\n",
    "            \n",
    "            new_boundary_flag = False\n",
    "            \n",
    "        # last edge of boundary\n",
    "        elif not new_boundary_flag and D.he_list[processed_he].next == boundaries_list[boundary_index].edges[0]:\n",
    "            \n",
    "            #add to boundary\n",
    "            boundaries_list[boundary_index].add_edge(processed_he)\n",
    "            \n",
    "            # mark as visited\n",
    "            visited_half_edges[processed_he] = True\n",
    "            \n",
    "            # decide the type of boundary\n",
    "            boundaries_list[boundary_index].set_type()\n",
    "            \n",
    "            # move to any unvisited half_edge\n",
    "            processed_he = next_after_last()\n",
    "            \n",
    "            #increment boundary index\n",
    "            boundary_index+=1\n",
    "            \n",
    "            new_boundary_flag = True\n",
    "            \n",
    "        # neither first nor last edge in boundary\n",
    "        elif not new_boundary_flag:\n",
    "            \n",
    "            #add to boundary\n",
    "            boundaries_list[boundary_index].add_edge(processed_he)\n",
    "            \n",
    "            # mark as visited\n",
    "            visited_half_edges[processed_he] = True\n",
    "            \n",
    "            # move to next half_edge\n",
    "            processed_he = D.he_list[processed_he].next\n",
    " \n",
    "        \n",
    "    return boundaries_list"
   ]
  },
  {
   "cell_type": "code",
   "execution_count": 9,
   "metadata": {
    "scrolled": false
   },
   "outputs": [
    {
     "name": "stdout",
     "output_type": "stream",
     "text": [
      " \n",
      "Boundary 0\n",
      "Leftmost vertex (1, 1)\n",
      "Type Inner\n",
      "edge 0\n",
      "edge 2\n",
      "edge 4\n",
      "---\n",
      "Boundary 1\n",
      "Leftmost vertex (1, 1)\n",
      "Type Outer\n",
      "edge 1\n",
      "edge 5\n",
      "edge 3\n",
      "---\n",
      "Boundary 2\n",
      "Leftmost vertex (0, 0)\n",
      "Type Inner\n",
      "edge 6\n",
      "edge 8\n",
      "edge 10\n",
      "edge 12\n",
      "---\n",
      "Boundary 3\n",
      "Leftmost vertex (0, 0)\n",
      "Type Outer\n",
      "edge 7\n",
      "edge 13\n",
      "edge 11\n",
      "edge 9\n",
      "---\n"
     ]
    }
   ],
   "source": [
    "# test of boundary cycles creation\n",
    "\n",
    "def print_boundaries( boundaries_list ):\n",
    "    for b in boundaries_list:\n",
    "        print (\"Boundary\", b.boundary_index)\n",
    "        print (\"Leftmost vertex\", D.v_list[b.leftmost_vertex].coord)\n",
    "        print( \"Type\", b.type)\n",
    "        for j in b.edges:\n",
    "            print (\"edge\",j)\n",
    "        print('---')\n",
    "\n",
    "\n",
    "boundaries = get_boundaries( D )\n",
    "print(' ')\n",
    "print_boundaries( boundaries )\n"
   ]
  },
  {
   "cell_type": "markdown",
   "metadata": {},
   "source": [
    "### Constructing graph neccessary for face computing\n",
    "> This part constructs a undirected graph, where nodes are boundary cycles and whose edges connect each hole cycle to the cycle to the left of its leftmost vertex, and compute its connected components - each connected component contains all boundaries incident to the same face\n",
    "> \n",
    "> List of connected components is returned"
   ]
  },
  {
   "cell_type": "code",
   "execution_count": 6,
   "metadata": {},
   "outputs": [],
   "source": [
    "# test neccessity\n",
    "D.v_list[0].edge_to_the_left = 12\n",
    "D.v_list[1].edge_to_the_left = 12\n",
    "D.v_list[2].edge_to_the_left = 12\n",
    "D.v_list[3].edge_to_the_left = None\n",
    "D.v_list[4].edge_to_the_left = 12\n",
    "D.v_list[5].edge_to_the_left = 12\n",
    "D.v_list[6].edge_to_the_left = None"
   ]
  },
  {
   "cell_type": "code",
   "execution_count": 7,
   "metadata": {},
   "outputs": [],
   "source": [
    "def graph_of_cycles (boundaries):\n",
    "    \n",
    "    # graph named G\n",
    "    G = [[] for i in boundaries]\n",
    "    # add node for infinite boundary - reffered to with index -1\n",
    "    G.append([])\n",
    "\n",
    "    # add edges in G\n",
    "    for i in range(len(G)-1):\n",
    "        \n",
    "        #only outer boundaries can add edges\n",
    "        if boundaries[i].type == \"Outer\":\n",
    "            \n",
    "            j = D.v_list[ boundaries[i].leftmost_vertex ].edge_to_the_left\n",
    "            #if edge on the left of leftmost vertex is nonexistent, connect to infinite boundary cycle (-1)\n",
    "            if j == None:\n",
    "                G[-1].append(i)\n",
    "                G[i].append(-1)\n",
    "            else:\n",
    "                j = D.he_list[ j ].boundary_index\n",
    "                G[j].append(i)\n",
    "                G[i].append(j)\n",
    "        \n",
    "  \n",
    "    # DFS to find all connected components\n",
    "    def get_cc(G):\n",
    "        visited_nodes = [False for i in G]\n",
    "        connected_components = []\n",
    "        \n",
    "        def dfs (v, cc_index):\n",
    "            visited_nodes[v] = True\n",
    "            connected_components[cc_index].append(v)\n",
    "            for i in G[v]:\n",
    "                if not visited_nodes[i]:\n",
    "                    dfs(i, cc_index)\n",
    "\n",
    "        cc_index = 0\n",
    "        for v in range(len(G)):\n",
    "            if not visited_nodes[v]:\n",
    "                connected_components.append([])\n",
    "                dfs(v, cc_index)\n",
    "                cc_index+=1\n",
    "                \n",
    "        return connected_components\n",
    "    \n",
    "    return get_cc( G )"
   ]
  },
  {
   "cell_type": "code",
   "execution_count": 10,
   "metadata": {},
   "outputs": [
    {
     "name": "stdout",
     "output_type": "stream",
     "text": [
      "[[0], [1, 2], [3, -1]]\n"
     ]
    }
   ],
   "source": [
    "print(graph_of_cycles(boundaries))"
   ]
  },
  {
   "cell_type": "markdown",
   "metadata": {},
   "source": [
    "### Face computing\n",
    "> "
   ]
  },
  {
   "cell_type": "code",
   "execution_count": 11,
   "metadata": {},
   "outputs": [],
   "source": [
    "def assign_faces ( D ):\n",
    "    boundaries = get_boundaries( D )\n",
    "    cc_in_boundary_graph = graph_of_cycles ( boundaries )\n",
    "    print(cc_in_boundary_graph)\n",
    "    \n",
    "    D.f_list.clear()\n",
    "    \n",
    "    for face_index in range(len(cc_in_boundary_graph)):\n",
    "        \n",
    "        # function assigning half_edges incident face (chain reaction)\n",
    "        def set_face_of_edges_in_boundary(starting_edge):\n",
    "            e = starting_edge\n",
    "            D.he_list[e].set_face(face_index)\n",
    "            e = D.he_list[e].next\n",
    "            \n",
    "            while e != starting_edge:\n",
    "                D.he_list[e].set_face(face_index)\n",
    "                e = D.he_list[e].next\n",
    "        \n",
    "        # creating faces (including the infinite face) and adding holes inside them\n",
    "        def get_edges_of_face( cc ):\n",
    "            inner_edge_list = []\n",
    "            outer_edge = None\n",
    "            for i in cc:\n",
    "                \n",
    "                # outer edge in infinity\n",
    "                if i == -1:\n",
    "                    outer_edge = None\n",
    "                    \n",
    "                # some edge of outer boundary\n",
    "                elif boundaries[i].type == \"Inner\":\n",
    "                    outer_edge = boundaries[i].edges[0]\n",
    "                    \n",
    "                # some edge of outer boundary of hole inside\n",
    "                else:\n",
    "                    inner_edge_list.append( boundaries[i].edges[0] )\n",
    "                \n",
    "                # set incident face for all boundaries incident with it\n",
    "                \n",
    "                # outer component\n",
    "                if outer_edge != None:\n",
    "                    set_face_of_edges_in_boundary(outer_edge)\n",
    "                \n",
    "                # every inner component\n",
    "                for inner_edge in inner_edge_list:\n",
    "                    set_face_of_edges_in_boundary(inner_edge)\n",
    "                    \n",
    "            return inner_edge_list, outer_edge\n",
    "        \n",
    "        inner, outer = get_edges_of_face( cc_in_boundary_graph[face_index] )\n",
    "        D.add ( S.Face( face_index, outer, inner) )\n",
    "    "
   ]
  },
  {
   "cell_type": "code",
   "execution_count": 12,
   "metadata": {},
   "outputs": [
    {
     "name": "stdout",
     "output_type": "stream",
     "text": [
      "[[0], [1, 2], [3, -1]]\n",
      "face 0 \n",
      "  outer 0\n",
      "face 1 \n",
      "  outer 6\n",
      "  inner 1\n",
      "face 2 \n",
      "  outer None\n",
      "  inner 7\n",
      "e 0  inc. face 0\n",
      "e 1  inc. face 1\n",
      "e 2  inc. face 0\n",
      "e 3  inc. face 1\n",
      "e 4  inc. face 0\n",
      "e 5  inc. face 1\n",
      "e 6  inc. face 1\n",
      "e 7  inc. face 2\n",
      "e 8  inc. face 1\n",
      "e 9  inc. face 2\n",
      "e 10  inc. face 1\n",
      "e 11  inc. face 2\n",
      "e 12  inc. face 1\n",
      "e 13  inc. face 2\n"
     ]
    }
   ],
   "source": [
    "#test\n",
    "assign_faces( D )\n",
    "\n",
    "for f in D.f_list:\n",
    "    print('face', f.face_index, '\\n  outer', f.outer)\n",
    "    for x in f.inner:\n",
    "        print('  inner', x)\n",
    "\n",
    "for i in range(len(D.he_list)):\n",
    "    print('e', i, ' inc. face', D.he_list[i].incident_face)"
   ]
  }
 ],
 "metadata": {
  "kernelspec": {
   "display_name": "Python 3",
   "language": "python",
   "name": "python3"
  },
  "language_info": {
   "codemirror_mode": {
    "name": "ipython",
    "version": 3
   },
   "file_extension": ".py",
   "mimetype": "text/x-python",
   "name": "python",
   "nbconvert_exporter": "python",
   "pygments_lexer": "ipython3",
   "version": "3.7.4"
  }
 },
 "nbformat": 4,
 "nbformat_minor": 2
}
