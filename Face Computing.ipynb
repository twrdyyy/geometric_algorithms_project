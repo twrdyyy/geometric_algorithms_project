{
 "cells": [
  {
   "cell_type": "markdown",
   "metadata": {},
   "source": [
    "#### Importing classes and definitions from Structures\n",
    "> To use any def or class from Structures precede it with 'S.'\n",
    "> \n",
    "> Simply copy code instead is also an option"
   ]
  },
  {
   "cell_type": "code",
   "execution_count": 166,
   "metadata": {},
   "outputs": [
    {
     "name": "stdout",
     "output_type": "stream",
     "text": [
      "Requirement already satisfied: ipynb in /opt/anaconda3/lib/python3.7/site-packages (0.5.1)\n",
      "Note: you may need to restart the kernel to use updated packages.\n"
     ]
    }
   ],
   "source": [
    "pip install ipynb"
   ]
  },
  {
   "cell_type": "code",
   "execution_count": 167,
   "metadata": {},
   "outputs": [],
   "source": [
    "import ipynb.fs.defs.Structures as S"
   ]
  },
  {
   "cell_type": "code",
   "execution_count": null,
   "metadata": {},
   "outputs": [],
   "source": [
    "# after the sweep we got a list containing intersection points\n",
    "# main list - in book called 'D'    - better name needed I guess\n",
    "\n",
    "D = intersections( set_of_subdivisions )\n"
   ]
  },
  {
   "cell_type": "code",
   "execution_count": 168,
   "metadata": {},
   "outputs": [
    {
     "ename": "UnboundLocalError",
     "evalue": "local variable 'i' referenced before assignment",
     "output_type": "error",
     "traceback": [
      "\u001b[0;31m---------------------------------------------------------------------------\u001b[0m",
      "\u001b[0;31mUnboundLocalError\u001b[0m                         Traceback (most recent call last)",
      "\u001b[0;32m<ipython-input-168-e65f8ee4c378>\u001b[0m in \u001b[0;36m<module>\u001b[0;34m\u001b[0m\n\u001b[1;32m     10\u001b[0m \u001b[0;34m\u001b[0m\u001b[0m\n\u001b[1;32m     11\u001b[0m \u001b[0;34m\u001b[0m\u001b[0m\n\u001b[0;32m---> 12\u001b[0;31m \u001b[0mD\u001b[0m \u001b[0;34m=\u001b[0m \u001b[0mS\u001b[0m\u001b[0;34m.\u001b[0m\u001b[0mconvert\u001b[0m\u001b[0;34m(\u001b[0m\u001b[0msubdivision\u001b[0m\u001b[0;34m)\u001b[0m\u001b[0;34m\u001b[0m\u001b[0;34m\u001b[0m\u001b[0m\n\u001b[0m",
      "\u001b[0;32m~/Desktop/Geometryczne/geometric_algorithms_project/Structures.ipynb\u001b[0m in \u001b[0;36mconvert\u001b[0;34m(subdivision)\u001b[0m\n\u001b[1;32m    115\u001b[0m    \"source\": [\n\u001b[1;32m    116\u001b[0m     \u001b[0;34m\"## Converting set of lists of edges into edge list\\n\"\u001b[0m\u001b[0;34m,\u001b[0m\u001b[0;34m\u001b[0m\u001b[0;34m\u001b[0m\u001b[0m\n\u001b[0;32m--> 117\u001b[0;31m     \u001b[0;34m\"\\n\"\u001b[0m\u001b[0;34m,\u001b[0m\u001b[0;34m\u001b[0m\u001b[0;34m\u001b[0m\u001b[0m\n\u001b[0m\u001b[1;32m    118\u001b[0m     \u001b[0;34m\"\\n\"\u001b[0m\u001b[0;34m,\u001b[0m\u001b[0;34m\u001b[0m\u001b[0;34m\u001b[0m\u001b[0m\n\u001b[1;32m    119\u001b[0m     \u001b[0;34m\"> This part converts given **lists of edges** only into a set of half_edges list and vertex list, creating the face list later\\n\"\u001b[0m\u001b[0;34m,\u001b[0m\u001b[0;34m\u001b[0m\u001b[0;34m\u001b[0m\u001b[0m\n",
      "\u001b[0;31mUnboundLocalError\u001b[0m: local variable 'i' referenced before assignment"
     ]
    }
   ],
   "source": [
    "#test needed\n",
    "# polygon1 = [[(1,1), (1,2)], [(1,2),(2,2)], [(2,2), (2,1)], [(2,1), (1,1)]]\n",
    "# polygon2 = [[(0,0), (0,5)], [(0,5), (5,5)], [(5,5),(0,0)]]\n",
    "polygon3 = [[(-5,-5), (-5,0)], [(-5,0), (0,5)], [(0,5), (1,0)], [(1,0), (0,-5)], [(0,-5), (-5,-5)]]\n",
    "polygon1 = [[(1,1), (1,2)], [(1,2),(2,2)], [(2,2), (1,1)]]\n",
    "polygon2 = [[(0,0), (0,5)], [(0,5), (5,5)], [(5,5),(0,0)]]\n",
    "subdivision = [polygon1, polygon3, polygon2]\n",
    "# subdivision = [polygon1]\n",
    "# subdivision = [polygon3]\n",
    "\n",
    "\n",
    "D = S.convert(subdivision)"
   ]
  },
  {
   "cell_type": "markdown",
   "metadata": {},
   "source": [
    "> Operating on indexes is tiring but works - better ideas appreciated\n",
    "> \n",
    "> For some reason following code does not work for triangles (???)"
   ]
  },
  {
   "cell_type": "markdown",
   "metadata": {},
   "source": [
    "### Determining boundary cycles"
   ]
  },
  {
   "cell_type": "code",
   "execution_count": 159,
   "metadata": {},
   "outputs": [],
   "source": [
    "import numpy as np\n",
    "# kto by pomyślał że ten skurwiały wyznacznik się znowu przyda :))))\n",
    "# det > 0 <=> c to the left of [a,b]\n",
    "def det(a,b,c):                                            \n",
    "    m = [a[0], a[1], b[0], b[1], c[0], c[1]]\n",
    "    return np.linalg.det(np.concatenate((np.reshape(m, (3, 2)), np.ones((3,1))), axis=1))\n",
    "    \n",
    "class Boundary:\n",
    "    \n",
    "    def __init__(self, first_edge_index, boundary_index):\n",
    "        # (technical) boundary index - perhaps redundant\n",
    "        self.boundary_index = boundary_index\n",
    "        \n",
    "        # list of half_edges indexes in the_list forming the boundary\n",
    "        self.edges = [first_edge_index]\n",
    "        \n",
    "        # boundary can be either outer or inner\n",
    "        self.type = None\n",
    "        \n",
    "        # index of edge containing leftmost vertex as origin - easiest way to decide the type after boundary creation\n",
    "        self.leftmost_edge = first_edge_index\n",
    "        \n",
    "        # leftmost vertex - perhabs redundant\n",
    "        self.leftmost_vertex = None\n",
    "     \n",
    "    # adding new edge to boundary\n",
    "    def add_edge(self, edge_index):\n",
    "        # adding edge to edge list\n",
    "        self.edges.append(edge_index)\n",
    "        \n",
    "        # checking whether added edge should replace leftmost edge (by origins)\n",
    "        if D.v_list[ D.he_list[edge_index].origin ].coord[0] < D.v_list[ D.he_list[self.leftmost_edge].origin ].coord[0]:\n",
    "            self.leftmost_edge = edge_index\n",
    "        #if tied in x-coordinates, choose one with smaller y-coordinate\n",
    "        elif D.v_list[ D.he_list[edge_index].origin ].coord[0] == D.v_list[ D.he_list[self.leftmost_edge].origin ].coord[0]:\n",
    "            if D.v_list[ D.he_list[edge_index].origin ].coord[1] < D.v_list[ D.he_list[self.leftmost_edge].origin ].coord[1]:\n",
    "                self.leftmost_edge = edge_index\n",
    "    \n",
    "    # deciding if boundary is inner/outer - method called after closing the boundary\n",
    "    def set_type(self):\n",
    "        if det (D.v_list[ D.he_list[ D.he_list[self.leftmost_edge].prev ].origin ].coord, \n",
    "                D.v_list[ D.he_list[ D.he_list[self.leftmost_edge].next ].origin ].coord, \n",
    "                D.v_list[  D.he_list[self.leftmost_edge].origin ].coord) > 0:\n",
    "            self.type = \"Inner\"\n",
    "        else:\n",
    "            self.type = \"Outer\"\n",
    "        \n",
    "        self.leftmost_vertex = D.he_list[self.leftmost_edge].origin\n",
    "        \n",
    "        \n",
    "        \n",
    "# function returning list of boundaries from D\n",
    "def get_boundaries( D ):\n",
    "    \n",
    "    boundaries_list = []\n",
    "    boundary_index = 0\n",
    "    \n",
    "    #index of next half_edge added to some boundary\n",
    "    processed_he = 0\n",
    "    new_boundary_flag = True\n",
    "    \n",
    "    # this part here shits linear complexity - better solution is a bit complex, to be worried after all\n",
    "    # list and method neccessary to choose next half_edge processed after last edge in boundary\n",
    "    visited_half_edges = [False for i in D.he_list]\n",
    "    def next_after_last():\n",
    "        for he_index in range(len(D.he_list)):\n",
    "            if not visited_half_edges[he_index]:\n",
    "                return he_index\n",
    "    \n",
    "    #again not optimal\n",
    "    while visited_half_edges.count(False) > 0:\n",
    "        \n",
    "        # first edge of new boundary\n",
    "        if new_boundary_flag:\n",
    "            \n",
    "            #adding boundary and first edge to boundary\n",
    "            boundaries_list.append( Boundary(processed_he, boundary_index) )\n",
    "            \n",
    "            # marking as visited\n",
    "            visited_half_edges[processed_he] = True\n",
    "            \n",
    "            # moving to next half_edge\n",
    "            processed_he = D.he_list[processed_he].next\n",
    "            \n",
    "            new_boundary_flag = False\n",
    "            \n",
    "        # last edge of boundary\n",
    "        elif not new_boundary_flag and D.he_list[processed_he].next == boundaries_list[boundary_index].edges[0]:\n",
    "            \n",
    "            #adding to boundary\n",
    "            boundaries_list[boundary_index].add_edge(processed_he)\n",
    "            \n",
    "            # marking as visited\n",
    "            visited_half_edges[processed_he] = True\n",
    "            \n",
    "            # deciding the type of boundary\n",
    "            boundaries_list[boundary_index].set_type()\n",
    "            \n",
    "            # moving to any unvisited half_edge\n",
    "            processed_he = next_after_last()\n",
    "            \n",
    "            #incrementing boundary index\n",
    "            boundary_index+=1\n",
    "            \n",
    "            new_boundary_flag = True\n",
    "            \n",
    "        # neither first nor last edge in boundary\n",
    "        elif not new_boundary_flag:\n",
    "            \n",
    "            #adding to boundary\n",
    "            boundaries_list[boundary_index].add_edge(processed_he)\n",
    "            \n",
    "            # marking as visited\n",
    "            visited_half_edges[processed_he] = True\n",
    "            \n",
    "            # moving to next half_edge\n",
    "            processed_he = D.he_list[processed_he].next\n",
    " \n",
    "        \n",
    "    return boundaries_list"
   ]
  },
  {
   "cell_type": "code",
   "execution_count": 160,
   "metadata": {
    "scrolled": false
   },
   "outputs": [
    {
     "name": "stdout",
     "output_type": "stream",
     "text": [
      " \n",
      "Boundary 0\n",
      "Leftmost vertex (1, 1)\n",
      "Type Inner\n",
      "edge 0\n",
      "edge 2\n",
      "edge 4\n",
      "---\n",
      "Boundary 1\n",
      "Leftmost vertex (1, 1)\n",
      "Type Outer\n",
      "edge 1\n",
      "edge 5\n",
      "edge 3\n",
      "---\n",
      "Boundary 2\n",
      "Leftmost vertex (-5, -5)\n",
      "Type Inner\n",
      "edge 6\n",
      "edge 8\n",
      "edge 10\n",
      "edge 12\n",
      "edge 14\n",
      "---\n",
      "Boundary 3\n",
      "Leftmost vertex (-5, -5)\n",
      "Type Outer\n",
      "edge 7\n",
      "edge 15\n",
      "edge 13\n",
      "edge 11\n",
      "edge 9\n",
      "---\n",
      "Boundary 4\n",
      "Leftmost vertex (0, 0)\n",
      "Type Inner\n",
      "edge 16\n",
      "edge 18\n",
      "edge 20\n",
      "---\n",
      "Boundary 5\n",
      "Leftmost vertex (0, 0)\n",
      "Type Outer\n",
      "edge 17\n",
      "edge 21\n",
      "edge 19\n",
      "---\n"
     ]
    }
   ],
   "source": [
    "# test of boundary cycles creation\n",
    "\n",
    "def print_boundaries( boundaries_list ):\n",
    "    for b in boundaries_list:\n",
    "        print (\"Boundary\", b.boundary_index)\n",
    "        print (\"Leftmost vertex\", D.v_list[b.leftmost_vertex].coord)\n",
    "        print( \"Type\", b.type)\n",
    "        for j in b.edges:\n",
    "            print (\"edge\",j)\n",
    "        print('---')\n",
    "\n",
    "\n",
    "boundaries = get_boundaries( D )\n",
    "print(' ')\n",
    "print_boundaries( boundaries )\n"
   ]
  },
  {
   "cell_type": "markdown",
   "metadata": {},
   "source": [
    "### Constructing graph neccessary for face computing"
   ]
  },
  {
   "cell_type": "markdown",
   "metadata": {},
   "source": [
    "### Face computing"
   ]
  }
 ],
 "metadata": {
  "kernelspec": {
   "display_name": "Python 3",
   "language": "python",
   "name": "python3"
  },
  "language_info": {
   "codemirror_mode": {
    "name": "ipython",
    "version": 3
   },
   "file_extension": ".py",
   "mimetype": "text/x-python",
   "name": "python",
   "nbconvert_exporter": "python",
   "pygments_lexer": "ipython3",
   "version": "3.7.4"
  }
 },
 "nbformat": 4,
 "nbformat_minor": 2
}
