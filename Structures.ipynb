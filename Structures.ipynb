{
 "cells": [
  {
   "cell_type": "markdown",
   "metadata": {},
   "source": [
    "> In the book Doubly Linked List\n",
    ">  \n",
    "> Here seperate lists of vertexes, faces, half-edges\n",
    ">  \n",
    "> \"Pointers\" simply indexes in appropriate list //best of my ideas yet\n"
   ]
  },
  {
   "cell_type": "markdown",
   "metadata": {},
   "source": [
    "### Classes for vertexes, faces, half-edges"
   ]
  },
  {
   "cell_type": "code",
   "execution_count": 2,
   "metadata": {},
   "outputs": [],
   "source": [
    "class Vertex:\n",
    "    def __init__(self, coord, incident_edge):\n",
    "        # tuple with coordinates\n",
    "        self.coord = coord \n",
    "        \n",
    "        # half-edge with this vertex as origin  -- not exactly sure how this should work\n",
    "        self.incident_edge = incident_edge\n",
    "\n",
    "        \n",
    "        \n",
    "class Face:\n",
    "    def __init__(self, outer_component):\n",
    "        # index of and half-edge on outer boundary\n",
    "        self.outer = outer_component\n",
    "        \n",
    "        # list of indexes of one (outer) half-edge in every hole inside this face\n",
    "        self.inner = []\n",
    "        \n",
    "    # adding hole (one of outer half_edges from hole inside this face)\n",
    "    def add_hole(self, inner_component_half_edge):\n",
    "        self.inner.append(inner_component_half_edge)\n",
    "        \n",
    "    #for the unbounded face, self.outer = None    -- should be default??\n",
    "        \n",
    "        \n",
    "        \n",
    "class Half_edge:\n",
    "    def __init__(self, origin, twin, nxt, prv):\n",
    "        # vertex this half_edge starts from\n",
    "        self.origin = origin\n",
    "        \n",
    "        # opposite half_edge (from destination(this) to origin(this))\n",
    "        self.twin = twin\n",
    "        \n",
    "        # face laying to the left of half_edge\n",
    "        self.incident_face = None\n",
    "        \n",
    "        #next half_edge that is also a boundary to self.incident_face\n",
    "        self.next = nxt\n",
    "        \n",
    "        #previous half_edge that is also a boundary to self.incident_face\n",
    "        self.prev = prv\n",
    "    \n",
    "    def set_face(self, f):\n",
    "        self.incident_face = f\n",
    "        \n",
    "    # self.destination = self.twin.origin hence needs not to be used\n",
    "        "
   ]
  },
  {
   "cell_type": "markdown",
   "metadata": {},
   "source": [
    "### Subdivision\n",
    "\n"
   ]
  },
  {
   "cell_type": "code",
   "execution_count": 3,
   "metadata": {},
   "outputs": [],
   "source": [
    "# \"Doubly Linked\" Edge List\n",
    "class Dles:\n",
    "    def __init__(self):\n",
    "        # list of tuples (vertex, id of element of subdivision)\n",
    "        self.v_list = []\n",
    "        # face list\n",
    "        self.f_list = []\n",
    "        # half_edge list\n",
    "        self.he_list = []\n",
    "        \n",
    "    # self-recongnizing adding vertexes/faces/half_edges\n",
    "    def add(self, x):\n",
    "        if type(x).__name__ == 'Vertex':\n",
    "            self.v_list.append(x)\n",
    "        elif type(x).__name__ == 'Face':\n",
    "            self.f_list.append(x)\n",
    "        elif type(x).__name__ == 'Half_edge':\n",
    "            self.he_list.append(x)\n",
    "        "
   ]
  },
  {
   "cell_type": "markdown",
   "metadata": {},
   "source": [
    "## Converting set of lists of edges into edge list\n",
    "\n",
    "\n",
    "> This part converts given **lists of edges** only into a set of half_edges list and vertex list, creating the face list later\n",
    "> \n",
    "> Changing to list of points (vertexes) izi if neccessary\n",
    ">  \n",
    "> A subdivision is a polygon with possible holes (polygons) inside\n",
    ">  \n",
    "> Each vertice has exactly two adjacent edges\n"
   ]
  },
  {
   "cell_type": "code",
   "execution_count": 38,
   "metadata": {},
   "outputs": [],
   "source": [
    "# subdivision is list of lists of edges\n",
    "# subdivision = [polygon1, polygon2, ...] - one is outer boundary, rest are boundaries of holes inside it\n",
    "\n",
    "def convert( subdivision ): \n",
    "\n",
    "    edge_list = Dles()\n",
    "    \n",
    "    # index for half_edges\n",
    "    edge_index = 0\n",
    "    e0 = 0\n",
    "    # neccessary to keep indexes in modulo(length*2) + e0\n",
    "    def m(x):\n",
    "         return (x-e0)%(len(polygon)*2) +e0\n",
    "    # index for vertexes\n",
    "    vertex_index = 0\n",
    "    v0 = 0\n",
    "    def v_i(x):\n",
    "        return (x-v0)%(len(polygon))+v0\n",
    "        \n",
    "    for polygon in subdivision:\n",
    "        \n",
    "        for edge in polygon:\n",
    "            \n",
    "            # adding vertex v - beginning of given edge - end is not added\n",
    "            edge_list.add(Vertex(edge[0], m(edge_index)))\n",
    "                          \n",
    "            # adding incident half_edge (starting in v) at index he_i\n",
    "            edge_list.add(Half_edge(v_i(vertex_index), m(edge_index+1) , m(edge_index+2), m(edge_index-2)))\n",
    "                          \n",
    "            #adding the twin of added half_edge with at index he_i+1\n",
    "            edge_list.add(Half_edge(v_i(vertex_index+1), m(edge_index), m(edge_index-1), m(edge_index+3)))\n",
    "            \n",
    "            vertex_index+=1\n",
    "            edge_index+=2    # i - edge, i+1 - twin edge\n",
    "            \n",
    "        e0 = edge_index\n",
    "        v0 = vertex_index\n",
    "        \n",
    "    return edge_list"
   ]
  },
  {
   "cell_type": "code",
   "execution_count": 39,
   "metadata": {},
   "outputs": [
    {
     "name": "stdout",
     "output_type": "stream",
     "text": [
      "4\n",
      "e0 8\n",
      "3\n",
      "e0 14\n",
      "(1, 1)    inc. edge: 0\n",
      "(1, 2)    inc. edge: 2\n",
      "(2, 2)    inc. edge: 4\n",
      "(2, 1)    inc. edge: 6\n",
      "(0, 0)    inc. edge: 8\n",
      "(0, 5)    inc. edge: 10\n",
      "(5, 5)    inc. edge: 12\n",
      "\n",
      "0 twin: 1  prev,next:  6 , 2 or:  0\n",
      "1 twin: 0  prev,next:  3 , 7 or:  1\n",
      "2 twin: 3  prev,next:  0 , 4 or:  1\n",
      "3 twin: 2  prev,next:  5 , 1 or:  2\n",
      "4 twin: 5  prev,next:  2 , 6 or:  2\n",
      "5 twin: 4  prev,next:  7 , 3 or:  3\n",
      "6 twin: 7  prev,next:  4 , 0 or:  3\n",
      "7 twin: 6  prev,next:  1 , 5 or:  0\n",
      "8 twin: 9  prev,next:  12 , 10 or:  4\n",
      "9 twin: 8  prev,next:  11 , 13 or:  5\n",
      "10 twin: 11  prev,next:  8 , 12 or:  5\n",
      "11 twin: 10  prev,next:  13 , 9 or:  6\n",
      "12 twin: 13  prev,next:  10 , 8 or:  6\n",
      "13 twin: 12  prev,next:  9 , 11 or:  4\n"
     ]
    }
   ],
   "source": [
    "#test\n",
    "\n",
    "polygon1 = [[(1,1), (1,2)], [(1,2),(2,2)], [(2,2), (2,1)], [(2,1), (1,1)]]\n",
    "# polygon2 = [[(0,0), (0,5)], [(0,5), (5,5)], [(5,5),(5,0)], [(5,0), (3,1)], [(3,1),(0,0)]]\n",
    "# polygon1 = [[(1,1), (1,2)], [(1,2),(2,2)], [(2,2), (1,1)]]\n",
    "polygon2 = [[(0,0), (0,5)], [(0,5), (5,5)], [(5,5),(0,0)]]\n",
    "subdivision = [polygon1, polygon2]\n",
    "# subdivision = [polygon1]\n",
    "\n",
    "list_of_edges = convert(subdivision)\n",
    "\n",
    "def print_dles(L):\n",
    "    for v in L.v_list:\n",
    "        print(v.coord, '   inc. edge:', v.incident_edge)\n",
    "    print()\n",
    "    i = 0\n",
    "    for e in L.he_list:\n",
    "        print(i, 'twin:', e.twin, \" prev,next: \", e.prev, ',', e.next, 'or: ', e.origin)\n",
    "        i+=1\n",
    "        \n",
    "print_dles(list_of_edges)"
   ]
  },
  {
   "cell_type": "markdown",
   "metadata": {},
   "source": [
    "#### !!\n",
    "> Cause I'll forget\n",
    "> \n",
    "> To find later one boundary cycle in he_list, remember origin of the first edge you look at and follow nexts until you get to that origin"
   ]
  },
  {
   "cell_type": "code",
   "execution_count": null,
   "metadata": {},
   "outputs": [],
   "source": []
  }
 ],
 "metadata": {
  "kernelspec": {
   "display_name": "Python 3",
   "language": "python",
   "name": "python3"
  },
  "language_info": {
   "codemirror_mode": {
    "name": "ipython",
    "version": 3
   },
   "file_extension": ".py",
   "mimetype": "text/x-python",
   "name": "python",
   "nbconvert_exporter": "python",
   "pygments_lexer": "ipython3",
   "version": "3.7.4"
  }
 },
 "nbformat": 4,
 "nbformat_minor": 2
}
