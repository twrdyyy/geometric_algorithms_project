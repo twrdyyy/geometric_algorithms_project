{
 "cells": [
  {
   "cell_type": "markdown",
   "metadata": {},
   "source": [
    "> In the book Doubly Linked List\n",
    ">  \n",
    "> Here seperate lists of vertexes, faces, half-edges\n",
    ">  \n",
    "> \"Pointers\" simply indexes in appropriate list //best of my ideas yet\n"
   ]
  },
  {
   "cell_type": "markdown",
   "metadata": {},
   "source": [
    "### Classes for vertexes, faces, half-edges"
   ]
  },
  {
   "cell_type": "code",
   "execution_count": 3,
   "metadata": {},
   "outputs": [],
   "source": [
    "class Vertex:\n",
    "    def __init__(self, coord, incident_edge):\n",
    "        # tuple with coordinates\n",
    "        self.coord = coord \n",
    "        \n",
    "        # index of half-edge with this vertex as origin  -- not exactly sure how this should work\n",
    "        self.incident_edge = incident_edge\n",
    "        \n",
    "        # index of half_edge immediately to the left of the vertex computed during sweep\n",
    "        self.edge_to_the_left = None\n",
    "    \n",
    "    def set_edge_to_the_left(self, edge_index):\n",
    "        self.edge_to_the_left = edge_index\n",
    "\n",
    "        \n",
    "        \n",
    "class Face:\n",
    "    def __init__(self, index, outer_component, inner_components):\n",
    "        self.face_index = index\n",
    "        \n",
    "        # index of and half-edge on outer boundary\n",
    "        self.outer = outer_component\n",
    "        \n",
    "        # list of indexes of one (outer) half-edge in every hole inside this face\n",
    "        self.inner = inner_components\n",
    "        \n",
    "        \n",
    "class Half_edge:\n",
    "    def __init__(self, origin, twin, nxt, prv):\n",
    "        # vertex this half_edge starts from\n",
    "        self.origin = origin\n",
    "        \n",
    "        # opposite half_edge (from destination(this) to origin(this))\n",
    "        self.twin = twin\n",
    "        \n",
    "        # face laying to the left of half_edge\n",
    "        self.incident_face = None\n",
    "        \n",
    "        # next half_edge that is also a boundary to self.incident_face\n",
    "        self.next = nxt\n",
    "        \n",
    "        # previous half_edge that is also a boundary to self.incident_face\n",
    "        self.prev = prv\n",
    "        \n",
    "        # refferal needed in face computing\n",
    "        self.boundary_index = None\n",
    "    \n",
    "    def set_face(self, f):\n",
    "        self.incident_face = f\n",
    "        \n",
    "    def set_boundary(self, boundary_index):\n",
    "        self.boundary_index = boundary_index\n",
    "        \n",
    "    # self.destination = self.twin.origin hence needs not to be used\n",
    "        "
   ]
  },
  {
   "cell_type": "markdown",
   "metadata": {},
   "source": [
    "### Subdivision\n",
    "\n"
   ]
  },
  {
   "cell_type": "code",
   "execution_count": 4,
   "metadata": {},
   "outputs": [],
   "source": [
    "# \"Doubly Linked\" Edge List\n",
    "class Dles:\n",
    "    def __init__(self):\n",
    "        # list of tuples (vertex, id of element of subdivision)\n",
    "        self.v_list = []\n",
    "        # face list\n",
    "        self.f_list = []\n",
    "        # half_edge list\n",
    "        self.he_list = []\n",
    "        \n",
    "    # self-recongnizing adding vertexes/faces/half_edges\n",
    "    def add(self, x):\n",
    "        if type(x).__name__ == 'Vertex':\n",
    "            self.v_list.append(x)\n",
    "        elif type(x).__name__ == 'Face':\n",
    "            self.f_list.append(x)\n",
    "        elif type(x).__name__ == 'Half_edge':\n",
    "            self.he_list.append(x)\n",
    "        "
   ]
  },
  {
   "cell_type": "markdown",
   "metadata": {},
   "source": [
    "## Converting set of lists of edges into edge list\n",
    "\n",
    "\n",
    "> This part converts given **lists of edges** only into a set of half_edges list and vertex list, creating the face list later\n",
    "> \n",
    "> Changing to list of points (vertexes) izi if neccessary\n",
    ">  \n",
    "> A subdivision is a polygon with possible holes (polygons) inside\n",
    ">  \n",
    "> Each vertice has exactly two adjacent edges\n"
   ]
  },
  {
   "cell_type": "code",
   "execution_count": 1,
   "metadata": {},
   "outputs": [],
   "source": [
    "# subdivision is list of lists of edges\n",
    "# subdivision = [polygon1, polygon2, ...] - one is outer boundary, rest are boundaries of holes inside it\n",
    "\n",
    "def convert( subd ): \n",
    "\n",
    "    edge_list = Dles()\n",
    "    \n",
    "    # index for half_edges\n",
    "    edge_index = 0\n",
    "    e0 = 0\n",
    "    # neccessary to keep indexes in modulo(length*2) + e0\n",
    "    def m(x):\n",
    "         return (x-e0)%(len(polygon)*2) +e0\n",
    "    # index for vertexes\n",
    "    vertex_index = 0\n",
    "    v0 = 0\n",
    "    def v_i(x):\n",
    "        return (x-v0)%(len(polygon))+v0\n",
    "        \n",
    "    for polygon in subd:\n",
    "        \n",
    "        for edge in polygon:\n",
    "            \n",
    "            # adding vertex v - beginning of given edge - end is not added\n",
    "            edge_list.add(Vertex(edge[0], m(edge_index)))\n",
    "                          \n",
    "            # adding incident half_edge (starting in v) at index he_i\n",
    "            edge_list.add(Half_edge(v_i(vertex_index), m(edge_index+1) , m(edge_index+2), m(edge_index-2)))\n",
    "                          \n",
    "            #adding the twin of added half_edge with at index he_i+1\n",
    "            edge_list.add(Half_edge(v_i(vertex_index+1), m(edge_index), m(edge_index-1), m(edge_index+3)))\n",
    "            \n",
    "            vertex_index+=1\n",
    "            edge_index+=2    # i - edge, i+1 - twin edge\n",
    "            \n",
    "        e0 = edge_index\n",
    "        v0 = vertex_index\n",
    "        \n",
    "    return edge_list"
   ]
  }
 ],
 "metadata": {
  "kernelspec": {
   "display_name": "Python 3",
   "language": "python",
   "name": "python3"
  },
  "language_info": {
   "codemirror_mode": {
    "name": "ipython",
    "version": 3
   },
   "file_extension": ".py",
   "mimetype": "text/x-python",
   "name": "python",
   "nbconvert_exporter": "python",
   "pygments_lexer": "ipython3",
   "version": "3.7.4"
  }
 },
 "nbformat": 4,
 "nbformat_minor": 2
}
